{
 "cells": [
  {
   "cell_type": "markdown",
   "id": "c7ccf2ca",
   "metadata": {},
   "source": [
    "# Fertilizer Recommendation"
   ]
  },
  {
   "cell_type": "markdown",
   "id": "a0df771a",
   "metadata": {},
   "source": [
    "#  Introduction"
   ]
  },
  {
   "cell_type": "markdown",
   "id": "2bcc726b",
   "metadata": {},
   "source": [
    "Welcome to the Fertilizer Recommendation System, a cutting-edge tool crafted to empower farmers and agricultural enthusiasts in making informed decisions regarding fertilizer selection. This system harnesses the power of extensive datasets containing crucial agricultural parameters, including soil nutrient levels, crop requirements, climate conditions, and geographical attributes.\n",
    "\n",
    "\n",
    "In the realm of agriculture, the judicious application of fertilizers plays a pivotal role in optimizing crop productivity and ensuring soil health. Understanding the intricate dynamics between soil nutrients, crop demands, and environmental factors is paramount for achieving sustainable agricultural practices and maximizing yields.\n",
    "\n",
    "Our Fertilizer Recommendation System integrates advanced algorithms and machine learning techniques to analyze soil composition, nutrient deficiencies, and crop preferences. By leveraging this comprehensive dataset, farmers can receive tailored recommendations that align with the specific needs of their crops and soil conditions."
   ]
  },
  {
   "cell_type": "markdown",
   "id": "2c7da5f2",
   "metadata": {},
   "source": [
    "## Importing Necessary Libraries"
   ]
  },
  {
   "cell_type": "code",
   "execution_count": 2,
   "id": "74e23974",
   "metadata": {},
   "outputs": [],
   "source": [
    "# NumPy for numerical operations and array manipulation\n",
    "import numpy as np\n",
    "\n",
    "# Pandas for data manipulation and analysis using data frames\n",
    "import pandas as pd\n",
    "\n",
    "# Matplotlib for creating visualizations in Python\n",
    "import matplotlib.pyplot as plt \n",
    "\n",
    "# Seaborn for statistical data visualization based on Matplotlib\n",
    "import seaborn as sns\n",
    "\n",
    "from sklearn.model_selection import train_test_split, cross_val_score\n",
    "import warnings\n",
    "\n",
    "#for data preprocessing and feature engineering\n",
    "from sklearn.preprocessing import LabelEncoder\n",
    "from sklearn.preprocessing import StandardScaler\n",
    "\n",
    "# Ignore sklearn warnings\n",
    "warnings.filterwarnings(\"ignore\", category=UserWarning)\n",
    "\n",
    "\n",
    "# Various classification models from scikit-learn for machine learning tasks\n",
    "from sklearn.linear_model import LogisticRegression\n",
    "from sklearn.tree import DecisionTreeClassifier\n",
    "from sklearn.ensemble import RandomForestClassifier\n",
    "from sklearn.svm import SVC\n",
    "from sklearn.linear_model import RidgeClassifier\n",
    "from sklearn.ensemble import GradientBoostingClassifier\n",
    "\n",
    "\n",
    "# Performance metrics such as accuracy_score,cross_val_score and classification_report from scikit-learn\n",
    "from sklearn.metrics import accuracy_score, classification_report\n",
    "from sklearn.model_selection import KFold, cross_val_score\n",
    "\n",
    "# The pickle module for saving and loading machine learning models\n",
    "import pickle\n"
   ]
  },
  {
   "cell_type": "markdown",
   "id": "073bc49b",
   "metadata": {},
   "source": [
    "## DATA EXPLORATION"
   ]
  },
  {
   "cell_type": "markdown",
   "id": "8dd892c7",
   "metadata": {},
   "source": [
    "### LOADING DATA"
   ]
  },
  {
   "cell_type": "code",
   "execution_count": 3,
   "id": "698693f8",
   "metadata": {},
   "outputs": [],
   "source": [
    "fertilizer_recommendation_data = pd.read_csv(\"../data/raw/fertilizer_recommendation.csv\")"
   ]
  },
  {
   "cell_type": "markdown",
   "id": "836bfa22",
   "metadata": {},
   "source": [
    "### EXPLORING DATA"
   ]
  },
  {
   "cell_type": "code",
   "execution_count": 114,
   "id": "5de62668",
   "metadata": {},
   "outputs": [
    {
     "data": {
      "text/html": [
       "<div>\n",
       "<style scoped>\n",
       "    .dataframe tbody tr th:only-of-type {\n",
       "        vertical-align: middle;\n",
       "    }\n",
       "\n",
       "    .dataframe tbody tr th {\n",
       "        vertical-align: top;\n",
       "    }\n",
       "\n",
       "    .dataframe thead th {\n",
       "        text-align: right;\n",
       "    }\n",
       "</style>\n",
       "<table border=\"1\" class=\"dataframe\">\n",
       "  <thead>\n",
       "    <tr style=\"text-align: right;\">\n",
       "      <th></th>\n",
       "      <th>Temparature</th>\n",
       "      <th>Humidity</th>\n",
       "      <th>Moisture</th>\n",
       "      <th>Soil_Type</th>\n",
       "      <th>Crop_Type</th>\n",
       "      <th>Nitrogen</th>\n",
       "      <th>Potassium</th>\n",
       "      <th>Phosphorous</th>\n",
       "      <th>Fertilizer</th>\n",
       "    </tr>\n",
       "  </thead>\n",
       "  <tbody>\n",
       "    <tr>\n",
       "      <th>0</th>\n",
       "      <td>26</td>\n",
       "      <td>52</td>\n",
       "      <td>38</td>\n",
       "      <td>4</td>\n",
       "      <td>3</td>\n",
       "      <td>37</td>\n",
       "      <td>0</td>\n",
       "      <td>0</td>\n",
       "      <td>6</td>\n",
       "    </tr>\n",
       "    <tr>\n",
       "      <th>1</th>\n",
       "      <td>29</td>\n",
       "      <td>52</td>\n",
       "      <td>45</td>\n",
       "      <td>2</td>\n",
       "      <td>8</td>\n",
       "      <td>12</td>\n",
       "      <td>0</td>\n",
       "      <td>36</td>\n",
       "      <td>5</td>\n",
       "    </tr>\n",
       "    <tr>\n",
       "      <th>2</th>\n",
       "      <td>34</td>\n",
       "      <td>65</td>\n",
       "      <td>62</td>\n",
       "      <td>0</td>\n",
       "      <td>1</td>\n",
       "      <td>7</td>\n",
       "      <td>9</td>\n",
       "      <td>30</td>\n",
       "      <td>1</td>\n",
       "    </tr>\n",
       "    <tr>\n",
       "      <th>3</th>\n",
       "      <td>32</td>\n",
       "      <td>62</td>\n",
       "      <td>34</td>\n",
       "      <td>3</td>\n",
       "      <td>9</td>\n",
       "      <td>22</td>\n",
       "      <td>0</td>\n",
       "      <td>20</td>\n",
       "      <td>4</td>\n",
       "    </tr>\n",
       "    <tr>\n",
       "      <th>4</th>\n",
       "      <td>28</td>\n",
       "      <td>54</td>\n",
       "      <td>46</td>\n",
       "      <td>1</td>\n",
       "      <td>6</td>\n",
       "      <td>35</td>\n",
       "      <td>0</td>\n",
       "      <td>0</td>\n",
       "      <td>6</td>\n",
       "    </tr>\n",
       "  </tbody>\n",
       "</table>\n",
       "</div>"
      ],
      "text/plain": [
       "   Temparature  Humidity  Moisture  Soil_Type  Crop_Type  Nitrogen  Potassium  \\\n",
       "0           26        52        38          4          3        37          0   \n",
       "1           29        52        45          2          8        12          0   \n",
       "2           34        65        62          0          1         7          9   \n",
       "3           32        62        34          3          9        22          0   \n",
       "4           28        54        46          1          6        35          0   \n",
       "\n",
       "   Phosphorous  Fertilizer  \n",
       "0            0           6  \n",
       "1           36           5  \n",
       "2           30           1  \n",
       "3           20           4  \n",
       "4            0           6  "
      ]
     },
     "execution_count": 114,
     "metadata": {},
     "output_type": "execute_result"
    }
   ],
   "source": [
    "fertilizer_recommendation_data.head()"
   ]
  },
  {
   "cell_type": "code",
   "execution_count": 115,
   "id": "607d7eb6",
   "metadata": {},
   "outputs": [
    {
     "data": {
      "text/html": [
       "<div>\n",
       "<style scoped>\n",
       "    .dataframe tbody tr th:only-of-type {\n",
       "        vertical-align: middle;\n",
       "    }\n",
       "\n",
       "    .dataframe tbody tr th {\n",
       "        vertical-align: top;\n",
       "    }\n",
       "\n",
       "    .dataframe thead th {\n",
       "        text-align: right;\n",
       "    }\n",
       "</style>\n",
       "<table border=\"1\" class=\"dataframe\">\n",
       "  <thead>\n",
       "    <tr style=\"text-align: right;\">\n",
       "      <th></th>\n",
       "      <th>Temparature</th>\n",
       "      <th>Humidity</th>\n",
       "      <th>Moisture</th>\n",
       "      <th>Soil_Type</th>\n",
       "      <th>Crop_Type</th>\n",
       "      <th>Nitrogen</th>\n",
       "      <th>Potassium</th>\n",
       "      <th>Phosphorous</th>\n",
       "      <th>Fertilizer</th>\n",
       "    </tr>\n",
       "  </thead>\n",
       "  <tbody>\n",
       "    <tr>\n",
       "      <th>94</th>\n",
       "      <td>25</td>\n",
       "      <td>50</td>\n",
       "      <td>32</td>\n",
       "      <td>1</td>\n",
       "      <td>7</td>\n",
       "      <td>24</td>\n",
       "      <td>0</td>\n",
       "      <td>19</td>\n",
       "      <td>4</td>\n",
       "    </tr>\n",
       "    <tr>\n",
       "      <th>95</th>\n",
       "      <td>30</td>\n",
       "      <td>60</td>\n",
       "      <td>27</td>\n",
       "      <td>3</td>\n",
       "      <td>9</td>\n",
       "      <td>4</td>\n",
       "      <td>17</td>\n",
       "      <td>17</td>\n",
       "      <td>0</td>\n",
       "    </tr>\n",
       "    <tr>\n",
       "      <th>96</th>\n",
       "      <td>38</td>\n",
       "      <td>72</td>\n",
       "      <td>51</td>\n",
       "      <td>2</td>\n",
       "      <td>10</td>\n",
       "      <td>39</td>\n",
       "      <td>0</td>\n",
       "      <td>0</td>\n",
       "      <td>6</td>\n",
       "    </tr>\n",
       "    <tr>\n",
       "      <th>97</th>\n",
       "      <td>36</td>\n",
       "      <td>60</td>\n",
       "      <td>43</td>\n",
       "      <td>4</td>\n",
       "      <td>4</td>\n",
       "      <td>15</td>\n",
       "      <td>0</td>\n",
       "      <td>41</td>\n",
       "      <td>5</td>\n",
       "    </tr>\n",
       "    <tr>\n",
       "      <th>98</th>\n",
       "      <td>29</td>\n",
       "      <td>58</td>\n",
       "      <td>57</td>\n",
       "      <td>0</td>\n",
       "      <td>8</td>\n",
       "      <td>12</td>\n",
       "      <td>0</td>\n",
       "      <td>10</td>\n",
       "      <td>3</td>\n",
       "    </tr>\n",
       "  </tbody>\n",
       "</table>\n",
       "</div>"
      ],
      "text/plain": [
       "    Temparature  Humidity  Moisture  Soil_Type  Crop_Type  Nitrogen  \\\n",
       "94           25        50        32          1          7        24   \n",
       "95           30        60        27          3          9         4   \n",
       "96           38        72        51          2         10        39   \n",
       "97           36        60        43          4          4        15   \n",
       "98           29        58        57          0          8        12   \n",
       "\n",
       "    Potassium  Phosphorous  Fertilizer  \n",
       "94          0           19           4  \n",
       "95         17           17           0  \n",
       "96          0            0           6  \n",
       "97          0           41           5  \n",
       "98          0           10           3  "
      ]
     },
     "execution_count": 115,
     "metadata": {},
     "output_type": "execute_result"
    }
   ],
   "source": [
    "fertilizer_recommendation_data.tail()"
   ]
  },
  {
   "cell_type": "code",
   "execution_count": 116,
   "id": "ada7b1bf",
   "metadata": {},
   "outputs": [
    {
     "data": {
      "text/html": [
       "<div>\n",
       "<style scoped>\n",
       "    .dataframe tbody tr th:only-of-type {\n",
       "        vertical-align: middle;\n",
       "    }\n",
       "\n",
       "    .dataframe tbody tr th {\n",
       "        vertical-align: top;\n",
       "    }\n",
       "\n",
       "    .dataframe thead th {\n",
       "        text-align: right;\n",
       "    }\n",
       "</style>\n",
       "<table border=\"1\" class=\"dataframe\">\n",
       "  <thead>\n",
       "    <tr style=\"text-align: right;\">\n",
       "      <th></th>\n",
       "      <th>Temparature</th>\n",
       "      <th>Humidity</th>\n",
       "      <th>Moisture</th>\n",
       "      <th>Soil_Type</th>\n",
       "      <th>Crop_Type</th>\n",
       "      <th>Nitrogen</th>\n",
       "      <th>Potassium</th>\n",
       "      <th>Phosphorous</th>\n",
       "      <th>Fertilizer</th>\n",
       "    </tr>\n",
       "  </thead>\n",
       "  <tbody>\n",
       "    <tr>\n",
       "      <th>count</th>\n",
       "      <td>99.000000</td>\n",
       "      <td>99.000000</td>\n",
       "      <td>99.000000</td>\n",
       "      <td>99.000000</td>\n",
       "      <td>99.000000</td>\n",
       "      <td>99.000000</td>\n",
       "      <td>99.000000</td>\n",
       "      <td>99.000000</td>\n",
       "      <td>99.000000</td>\n",
       "    </tr>\n",
       "    <tr>\n",
       "      <th>mean</th>\n",
       "      <td>30.282828</td>\n",
       "      <td>59.151515</td>\n",
       "      <td>43.181818</td>\n",
       "      <td>2.010101</td>\n",
       "      <td>5.151515</td>\n",
       "      <td>18.909091</td>\n",
       "      <td>3.383838</td>\n",
       "      <td>18.606061</td>\n",
       "      <td>3.636364</td>\n",
       "    </tr>\n",
       "    <tr>\n",
       "      <th>std</th>\n",
       "      <td>3.502304</td>\n",
       "      <td>5.840331</td>\n",
       "      <td>11.271568</td>\n",
       "      <td>1.410565</td>\n",
       "      <td>3.140790</td>\n",
       "      <td>11.599693</td>\n",
       "      <td>5.814667</td>\n",
       "      <td>13.476978</td>\n",
       "      <td>1.950691</td>\n",
       "    </tr>\n",
       "    <tr>\n",
       "      <th>min</th>\n",
       "      <td>25.000000</td>\n",
       "      <td>50.000000</td>\n",
       "      <td>25.000000</td>\n",
       "      <td>0.000000</td>\n",
       "      <td>0.000000</td>\n",
       "      <td>4.000000</td>\n",
       "      <td>0.000000</td>\n",
       "      <td>0.000000</td>\n",
       "      <td>0.000000</td>\n",
       "    </tr>\n",
       "    <tr>\n",
       "      <th>25%</th>\n",
       "      <td>28.000000</td>\n",
       "      <td>54.000000</td>\n",
       "      <td>34.000000</td>\n",
       "      <td>1.000000</td>\n",
       "      <td>2.000000</td>\n",
       "      <td>10.000000</td>\n",
       "      <td>0.000000</td>\n",
       "      <td>9.000000</td>\n",
       "      <td>2.000000</td>\n",
       "    </tr>\n",
       "    <tr>\n",
       "      <th>50%</th>\n",
       "      <td>30.000000</td>\n",
       "      <td>60.000000</td>\n",
       "      <td>41.000000</td>\n",
       "      <td>2.000000</td>\n",
       "      <td>5.000000</td>\n",
       "      <td>13.000000</td>\n",
       "      <td>0.000000</td>\n",
       "      <td>19.000000</td>\n",
       "      <td>4.000000</td>\n",
       "    </tr>\n",
       "    <tr>\n",
       "      <th>75%</th>\n",
       "      <td>33.000000</td>\n",
       "      <td>64.000000</td>\n",
       "      <td>50.500000</td>\n",
       "      <td>3.000000</td>\n",
       "      <td>8.000000</td>\n",
       "      <td>24.000000</td>\n",
       "      <td>7.500000</td>\n",
       "      <td>30.000000</td>\n",
       "      <td>5.000000</td>\n",
       "    </tr>\n",
       "    <tr>\n",
       "      <th>max</th>\n",
       "      <td>38.000000</td>\n",
       "      <td>72.000000</td>\n",
       "      <td>65.000000</td>\n",
       "      <td>4.000000</td>\n",
       "      <td>10.000000</td>\n",
       "      <td>42.000000</td>\n",
       "      <td>19.000000</td>\n",
       "      <td>42.000000</td>\n",
       "      <td>6.000000</td>\n",
       "    </tr>\n",
       "  </tbody>\n",
       "</table>\n",
       "</div>"
      ],
      "text/plain": [
       "       Temparature   Humidity   Moisture  Soil_Type  Crop_Type   Nitrogen  \\\n",
       "count    99.000000  99.000000  99.000000  99.000000  99.000000  99.000000   \n",
       "mean     30.282828  59.151515  43.181818   2.010101   5.151515  18.909091   \n",
       "std       3.502304   5.840331  11.271568   1.410565   3.140790  11.599693   \n",
       "min      25.000000  50.000000  25.000000   0.000000   0.000000   4.000000   \n",
       "25%      28.000000  54.000000  34.000000   1.000000   2.000000  10.000000   \n",
       "50%      30.000000  60.000000  41.000000   2.000000   5.000000  13.000000   \n",
       "75%      33.000000  64.000000  50.500000   3.000000   8.000000  24.000000   \n",
       "max      38.000000  72.000000  65.000000   4.000000  10.000000  42.000000   \n",
       "\n",
       "       Potassium  Phosphorous  Fertilizer  \n",
       "count  99.000000    99.000000   99.000000  \n",
       "mean    3.383838    18.606061    3.636364  \n",
       "std     5.814667    13.476978    1.950691  \n",
       "min     0.000000     0.000000    0.000000  \n",
       "25%     0.000000     9.000000    2.000000  \n",
       "50%     0.000000    19.000000    4.000000  \n",
       "75%     7.500000    30.000000    5.000000  \n",
       "max    19.000000    42.000000    6.000000  "
      ]
     },
     "execution_count": 116,
     "metadata": {},
     "output_type": "execute_result"
    }
   ],
   "source": [
    "fertilizer_recommendation_data.describe()"
   ]
  },
  {
   "cell_type": "code",
   "execution_count": 117,
   "id": "a78e30c9",
   "metadata": {},
   "outputs": [
    {
     "data": {
      "text/plain": [
       "891"
      ]
     },
     "execution_count": 117,
     "metadata": {},
     "output_type": "execute_result"
    }
   ],
   "source": [
    "fertilizer_recommendation_data.size"
   ]
  },
  {
   "cell_type": "code",
   "execution_count": 118,
   "id": "6b3ceff4",
   "metadata": {},
   "outputs": [
    {
     "data": {
      "text/plain": [
       "(99, 9)"
      ]
     },
     "execution_count": 118,
     "metadata": {},
     "output_type": "execute_result"
    }
   ],
   "source": [
    "fertilizer_recommendation_data.shape"
   ]
  },
  {
   "cell_type": "code",
   "execution_count": 119,
   "id": "f38eb401",
   "metadata": {},
   "outputs": [
    {
     "name": "stdout",
     "output_type": "stream",
     "text": [
      "<class 'pandas.core.frame.DataFrame'>\n",
      "RangeIndex: 99 entries, 0 to 98\n",
      "Data columns (total 9 columns):\n",
      " #   Column       Non-Null Count  Dtype\n",
      "---  ------       --------------  -----\n",
      " 0   Temparature  99 non-null     int64\n",
      " 1   Humidity     99 non-null     int64\n",
      " 2   Moisture     99 non-null     int64\n",
      " 3   Soil_Type    99 non-null     int32\n",
      " 4   Crop_Type    99 non-null     int32\n",
      " 5   Nitrogen     99 non-null     int64\n",
      " 6   Potassium    99 non-null     int64\n",
      " 7   Phosphorous  99 non-null     int64\n",
      " 8   Fertilizer   99 non-null     int32\n",
      "dtypes: int32(3), int64(6)\n",
      "memory usage: 5.9 KB\n"
     ]
    }
   ],
   "source": [
    "fertilizer_recommendation_data.info()"
   ]
  },
  {
   "cell_type": "code",
   "execution_count": 4,
   "id": "4b375f19",
   "metadata": {},
   "outputs": [],
   "source": [
    "#changing the column names\n",
    "fertilizer_recommendation_data.rename(columns={'Humidity ':'Humidity','Soil Type':'Soil_Type','Crop Type':'Crop_Type','Fertilizer Name':'Fertilizer'},inplace=True)"
   ]
  },
  {
   "cell_type": "code",
   "execution_count": 5,
   "id": "1885cea9",
   "metadata": {
    "scrolled": true
   },
   "outputs": [
    {
     "data": {
      "text/plain": [
       "Temparature    14\n",
       "Humidity       13\n",
       "Moisture       41\n",
       "Soil_Type       5\n",
       "Crop_Type      11\n",
       "Nitrogen       24\n",
       "Potassium      13\n",
       "Phosphorous    32\n",
       "Fertilizer      7\n",
       "dtype: int64"
      ]
     },
     "execution_count": 5,
     "metadata": {},
     "output_type": "execute_result"
    }
   ],
   "source": [
    "fertilizer_recommendation_data.nunique()"
   ]
  },
  {
   "cell_type": "code",
   "execution_count": 6,
   "id": "bcd0fe38",
   "metadata": {},
   "outputs": [
    {
     "data": {
      "text/plain": [
       "Temparature     int64\n",
       "Humidity        int64\n",
       "Moisture        int64\n",
       "Soil_Type      object\n",
       "Crop_Type      object\n",
       "Nitrogen        int64\n",
       "Potassium       int64\n",
       "Phosphorous     int64\n",
       "Fertilizer     object\n",
       "dtype: object"
      ]
     },
     "execution_count": 6,
     "metadata": {},
     "output_type": "execute_result"
    }
   ],
   "source": [
    "fertilizer_recommendation_data.dtypes"
   ]
  },
  {
   "cell_type": "code",
   "execution_count": 7,
   "id": "8f0285bd",
   "metadata": {
    "scrolled": true
   },
   "outputs": [
    {
     "data": {
      "text/plain": [
       "Temparature    0\n",
       "Humidity       0\n",
       "Moisture       0\n",
       "Soil_Type      0\n",
       "Crop_Type      0\n",
       "Nitrogen       0\n",
       "Potassium      0\n",
       "Phosphorous    0\n",
       "Fertilizer     0\n",
       "dtype: int64"
      ]
     },
     "execution_count": 7,
     "metadata": {},
     "output_type": "execute_result"
    }
   ],
   "source": [
    "#checking for null values\n",
    "fertilizer_recommendation_data.isna().sum()"
   ]
  },
  {
   "cell_type": "markdown",
   "id": "44b3543a",
   "metadata": {},
   "source": [
    "## Data Preprocessing"
   ]
  },
  {
   "cell_type": "code",
   "execution_count": 8,
   "id": "bce89ad4",
   "metadata": {},
   "outputs": [
    {
     "data": {
      "text/plain": [
       "Temparature    0\n",
       "Humidity       0\n",
       "Moisture       0\n",
       "Soil_Type      0\n",
       "Crop_Type      0\n",
       "Nitrogen       0\n",
       "Potassium      0\n",
       "Phosphorous    0\n",
       "Fertilizer     0\n",
       "dtype: int64"
      ]
     },
     "execution_count": 8,
     "metadata": {},
     "output_type": "execute_result"
    }
   ],
   "source": [
    "missing_values = fertilizer_recommendation_data.isnull().sum()\n",
    "missing_values"
   ]
  },
  {
   "cell_type": "markdown",
   "id": "997d7a18",
   "metadata": {},
   "source": [
    "In our dataset, there are no missing values, so there is no need to handle them."
   ]
  },
  {
   "cell_type": "markdown",
   "id": "65469d05",
   "metadata": {},
   "source": [
    "### DATA TRANSFORMATION "
   ]
  },
  {
   "cell_type": "markdown",
   "id": "2ff16d1c",
   "metadata": {},
   "source": [
    "Convert Categorical Variables: Soil_Type, Crop_Type, or Fertilizer.\n",
    "Encoding them using label encoding"
   ]
  },
  {
   "cell_type": "code",
   "execution_count": 9,
   "id": "bc569a51",
   "metadata": {},
   "outputs": [
    {
     "name": "stdout",
     "output_type": "stream",
     "text": [
      "Label Encodings:\n",
      "Soil_Type: {'Black': 0, 'Clayey': 1, 'Loamy': 2, 'Red': 3, 'Sandy': 4}\n",
      "Crop_Type: {'Barley': 0, 'Cotton': 1, 'Ground Nuts': 2, 'Maize': 3, 'Millets': 4, 'Oil seeds': 5, 'Paddy': 6, 'Pulses': 7, 'Sugarcane': 8, 'Tobacco': 9, 'Wheat': 10}\n",
      "Fertilizer: {'10-26-26': 0, '14-35-14': 1, '17-17-17': 2, '20-20': 3, '28-28': 4, 'DAP': 5, 'Urea': 6}\n"
     ]
    }
   ],
   "source": [
    "label_encoders = {}\n",
    "\n",
    "# Loop through categorical columns and perform label encoding\n",
    "for column in fertilizer_recommendation_data.select_dtypes(include=['object']).columns:\n",
    "    label_encoders[column] = LabelEncoder()\n",
    "    fertilizer_recommendation_data[column] = label_encoders[column].fit_transform(fertilizer_recommendation_data[column])\n",
    "\n",
    "# Example of label encodings\n",
    "print(\"Label Encodings:\")\n",
    "for column, encoder in label_encoders.items():\n",
    "    print(f\"{column}: {dict(zip(encoder.classes_, encoder.transform(encoder.classes_)))}\")\n",
    "\n",
    "# Now, your categorical variables are encoded numerically, and you can use them for model training"
   ]
  },
  {
   "cell_type": "code",
   "execution_count": 10,
   "id": "8628804d",
   "metadata": {
    "scrolled": false
   },
   "outputs": [
    {
     "data": {
      "text/html": [
       "<div>\n",
       "<style scoped>\n",
       "    .dataframe tbody tr th:only-of-type {\n",
       "        vertical-align: middle;\n",
       "    }\n",
       "\n",
       "    .dataframe tbody tr th {\n",
       "        vertical-align: top;\n",
       "    }\n",
       "\n",
       "    .dataframe thead th {\n",
       "        text-align: right;\n",
       "    }\n",
       "</style>\n",
       "<table border=\"1\" class=\"dataframe\">\n",
       "  <thead>\n",
       "    <tr style=\"text-align: right;\">\n",
       "      <th></th>\n",
       "      <th>Temparature</th>\n",
       "      <th>Humidity</th>\n",
       "      <th>Moisture</th>\n",
       "      <th>Soil_Type</th>\n",
       "      <th>Crop_Type</th>\n",
       "      <th>Nitrogen</th>\n",
       "      <th>Potassium</th>\n",
       "      <th>Phosphorous</th>\n",
       "      <th>Fertilizer</th>\n",
       "    </tr>\n",
       "  </thead>\n",
       "  <tbody>\n",
       "    <tr>\n",
       "      <th>0</th>\n",
       "      <td>26</td>\n",
       "      <td>52</td>\n",
       "      <td>38</td>\n",
       "      <td>4</td>\n",
       "      <td>3</td>\n",
       "      <td>37</td>\n",
       "      <td>0</td>\n",
       "      <td>0</td>\n",
       "      <td>6</td>\n",
       "    </tr>\n",
       "    <tr>\n",
       "      <th>1</th>\n",
       "      <td>29</td>\n",
       "      <td>52</td>\n",
       "      <td>45</td>\n",
       "      <td>2</td>\n",
       "      <td>8</td>\n",
       "      <td>12</td>\n",
       "      <td>0</td>\n",
       "      <td>36</td>\n",
       "      <td>5</td>\n",
       "    </tr>\n",
       "    <tr>\n",
       "      <th>2</th>\n",
       "      <td>34</td>\n",
       "      <td>65</td>\n",
       "      <td>62</td>\n",
       "      <td>0</td>\n",
       "      <td>1</td>\n",
       "      <td>7</td>\n",
       "      <td>9</td>\n",
       "      <td>30</td>\n",
       "      <td>1</td>\n",
       "    </tr>\n",
       "    <tr>\n",
       "      <th>3</th>\n",
       "      <td>32</td>\n",
       "      <td>62</td>\n",
       "      <td>34</td>\n",
       "      <td>3</td>\n",
       "      <td>9</td>\n",
       "      <td>22</td>\n",
       "      <td>0</td>\n",
       "      <td>20</td>\n",
       "      <td>4</td>\n",
       "    </tr>\n",
       "    <tr>\n",
       "      <th>4</th>\n",
       "      <td>28</td>\n",
       "      <td>54</td>\n",
       "      <td>46</td>\n",
       "      <td>1</td>\n",
       "      <td>6</td>\n",
       "      <td>35</td>\n",
       "      <td>0</td>\n",
       "      <td>0</td>\n",
       "      <td>6</td>\n",
       "    </tr>\n",
       "  </tbody>\n",
       "</table>\n",
       "</div>"
      ],
      "text/plain": [
       "   Temparature  Humidity  Moisture  Soil_Type  Crop_Type  Nitrogen  Potassium  \\\n",
       "0           26        52        38          4          3        37          0   \n",
       "1           29        52        45          2          8        12          0   \n",
       "2           34        65        62          0          1         7          9   \n",
       "3           32        62        34          3          9        22          0   \n",
       "4           28        54        46          1          6        35          0   \n",
       "\n",
       "   Phosphorous  Fertilizer  \n",
       "0            0           6  \n",
       "1           36           5  \n",
       "2           30           1  \n",
       "3           20           4  \n",
       "4            0           6  "
      ]
     },
     "execution_count": 10,
     "metadata": {},
     "output_type": "execute_result"
    }
   ],
   "source": [
    "fertilizer_recommendation_data.head()"
   ]
  },
  {
   "cell_type": "markdown",
   "id": "8bc00000",
   "metadata": {},
   "source": [
    "### Splitting Feature and Target Attributes"
   ]
  },
  {
   "cell_type": "code",
   "execution_count": 11,
   "id": "47302da9",
   "metadata": {},
   "outputs": [
    {
     "name": "stdout",
     "output_type": "stream",
     "text": [
      "Shape of DataFrame excluding last column: (99, 8)\n",
      "Shape of numpy array containing last column: (99, 1)\n"
     ]
    }
   ],
   "source": [
    "fertilizer_recommendation_features = fertilizer_recommendation_data.iloc[:, :-1] #feature attributes\n",
    "\n",
    "\n",
    "fertilizer_recommendation_target = fertilizer_recommendation_data.iloc[:, -1].values.reshape(len(fertilizer_recommendation_data), 1) #target attribute\n",
    "\n",
    "# Verify the shapes of the created data structures\n",
    "print(\"Shape of DataFrame excluding last column:\", fertilizer_recommendation_features.shape)\n",
    "print(\"Shape of numpy array containing last column:\", fertilizer_recommendation_target.shape)"
   ]
  },
  {
   "cell_type": "code",
   "execution_count": null,
   "id": "9ccff077",
   "metadata": {
    "scrolled": true
   },
   "outputs": [],
   "source": []
  },
  {
   "cell_type": "code",
   "execution_count": null,
   "id": "bec5c9be",
   "metadata": {
    "scrolled": true
   },
   "outputs": [],
   "source": []
  },
  {
   "cell_type": "markdown",
   "id": "fe153389",
   "metadata": {},
   "source": [
    "### FEATURE ENGINEERING"
   ]
  },
  {
   "cell_type": "markdown",
   "id": "35018b75",
   "metadata": {},
   "source": [
    "#### FEATURE SCALING"
   ]
  },
  {
   "cell_type": "markdown",
   "id": "2039304e",
   "metadata": {},
   "source": [
    "Standard scaling, a preprocessing technique in machine learning, normalizes features by removing the mean and scaling to unit variance. This process ensures that features are on a comparable scale, preventing those with larger magnitudes from dominating the model's learning."
   ]
  },
  {
   "cell_type": "code",
   "execution_count": 14,
   "id": "7710c9bb",
   "metadata": {},
   "outputs": [],
   "source": [
    "standard_scaler = StandardScaler()\n",
    "\n",
    "# Perform Standardization (Z-score normalization)\n",
    "fertilizer_recommendation_features = standard_scaler.fit_transform(fertilizer_recommendation_features)\n",
    "\n"
   ]
  },
  {
   "cell_type": "code",
   "execution_count": 15,
   "id": "342d7a68",
   "metadata": {
    "scrolled": true
   },
   "outputs": [
    {
     "data": {
      "text/plain": [
       "2"
      ]
     },
     "execution_count": 15,
     "metadata": {},
     "output_type": "execute_result"
    }
   ],
   "source": [
    "fertilizer_recommendation_features.ndim"
   ]
  },
  {
   "cell_type": "code",
   "execution_count": 134,
   "id": "99275146",
   "metadata": {
    "scrolled": true
   },
   "outputs": [],
   "source": [
    "# Save the scaler using pickle\n",
    "with open('../app/models/standard_scalerFR.pkl', 'wb') as file:\n",
    "    pickle.dump(standard_scaler,file)"
   ]
  },
  {
   "cell_type": "markdown",
   "id": "1289ec9e",
   "metadata": {},
   "source": [
    "## DATA VISUALIZATION"
   ]
  },
  {
   "cell_type": "markdown",
   "id": "a8455e23",
   "metadata": {},
   "source": [
    "Data visualization is a powerful tool for exploring, understanding, and communicating patterns and insights in your dataset"
   ]
  },
  {
   "cell_type": "markdown",
   "id": "38142b0c",
   "metadata": {},
   "source": [
    "### EXPLORATORY DATA VISUALIZATION"
   ]
  },
  {
   "cell_type": "markdown",
   "id": "7c5582a1",
   "metadata": {},
   "source": [
    "Use pair plots, box plots, and Correlation Matrix to explore the distribution of individual variables and identify potential outliers or patterns.\n",
    "\n",
    "Create pair plots to visualize relationships between pairs of variables and detect correlations.\n",
    "\n",
    "Utilize heatmaps and correlation matrices to visualize the correlation structure between variables."
   ]
  },
  {
   "cell_type": "code",
   "execution_count": 135,
   "id": "43745a07",
   "metadata": {},
   "outputs": [
    {
     "data": {
      "image/png": "[encoded data removed]",
      "text/plain": [
       "<Figure size 1440x1440 with 72 Axes>"
      ]
     },
     "metadata": {
      "needs_background": "light"
     },
     "output_type": "display_data"
    }
   ],
   "source": [
    "cols = ['Temparature', 'Humidity', 'Moisture', 'Soil_Type', 'Crop_Type', 'Nitrogen', 'Potassium', 'Phosphorous'] #for labelling\n",
    "# Pairplot for numerical features\n",
    "sns.pairplot(pd.DataFrame(fertilizer_recommendation_features,columns=cols))\n",
    "plt.title('Pairplot of Numerical Features')\n",
    "plt.show()"
   ]
  },
  {
   "cell_type": "code",
   "execution_count": 136,
   "id": "c82c8d47",
   "metadata": {},
   "outputs": [
    {
     "data": {
      "image/png": "[encoded data removed]",
      "text/plain": [
       "<Figure size 720x432 with 1 Axes>"
      ]
     },
     "metadata": {
      "needs_background": "light"
     },
     "output_type": "display_data"
    }
   ],
   "source": [
    "# Boxplot for categorical features\n",
    "\n",
    "# Indices and labels\n",
    "indices = [3, 4]\n",
    "labels = ['Soil_Type', 'Crop_Type']\n",
    "\n",
    "# Box plot\n",
    "plt.figure(figsize=(10, 6))\n",
    "sns.boxplot(data=fertilizer_recommendation_features[:, indices])\n",
    "plt.title('Boxplot of Categorical Features')\n",
    "plt.xticks(range(len(indices)), labels)\n",
    "plt.show()"
   ]
  },
  {
   "cell_type": "code",
   "execution_count": 137,
   "id": "bfb56c00",
   "metadata": {
    "scrolled": true
   },
   "outputs": [
    {
     "data": {
      "image/png": "[encoded data removed]",
      "text/plain": [
       "<Figure size 720x576 with 2 Axes>"
      ]
     },
     "metadata": {
      "needs_background": "light"
     },
     "output_type": "display_data"
    }
   ],
   "source": [
    "# Correlation heatmap\n",
    "\n",
    "# Column labels\n",
    "labels = ['Temparature', 'Humidity', 'Moisture', 'Soil_Type', 'Crop_Type', 'Nitrogen', 'Potassium', 'Phosphorous']\n",
    "\n",
    "# Compute the correlation matrix\n",
    "correlation_matrix = np.corrcoef(fertilizer_recommendation_features, rowvar=False)\n",
    "\n",
    "# Create a heatmap\n",
    "plt.figure(figsize=(10, 8))\n",
    "sns.heatmap(correlation_matrix, annot=True, fmt=\".2f\", cmap='coolwarm', xticklabels=labels, yticklabels=labels)\n",
    "plt.title('Correlation Matrix')\n",
    "plt.show()"
   ]
  },
  {
   "cell_type": "markdown",
   "id": "0462260f",
   "metadata": {},
   "source": [
    "When the correlation coefficient between temperature and humidity is high, such as the observed value of 0.97 in \n",
    "correlation matrix, and the pair plot exhibits a clear diagonal slope from left to right, it indicates a strong positive linear\n",
    "relationship between these two variables. \n",
    "\n",
    "Eventhough having higher correlation coefficient and interconnectedness between temperature and humidity, considering both values is necessary for greater accuracy. "
   ]
  },
  {
   "cell_type": "markdown",
   "id": "258055b6",
   "metadata": {},
   "source": [
    "## MODEL TRAINING "
   ]
  },
  {
   "cell_type": "markdown",
   "id": "e9db0e93",
   "metadata": {},
   "source": [
    "### SPLITTING DATA INTO TRAINING AND TESTING SET"
   ]
  },
  {
   "cell_type": "code",
   "execution_count": 22,
   "id": "34fc8006",
   "metadata": {},
   "outputs": [
    {
     "name": "stdout",
     "output_type": "stream",
     "text": [
      "Training set shape - X_train: (79, 8) y_train: (79, 1)\n",
      "Testing set shape - X_test: (20, 8) y_test: (20, 1)\n"
     ]
    }
   ],
   "source": [
    "# Separate features (X) and target variable (y)\n",
    "X = fertilizer_recommendation_features  # feature StandardScaler numpy array\n",
    "y = fertilizer_recommendation_target  # target value numpy array\n",
    "\n",
    "# Split the dataset into training and testing sets (80% train, 20% test)\n",
    "X_train, X_test, y_train, y_test = train_test_split(X, y, test_size=0.2, random_state=42)\n",
    "\n",
    "# Print the shapes of the training and testing sets\n",
    "print(\"Training set shape - X_train:\", X_train.shape, \"y_train:\", y_train.shape)\n",
    "print(\"Testing set shape - X_test:\", X_test.shape, \"y_test:\", y_test.shape)"
   ]
  },
  {
   "cell_type": "code",
   "execution_count": null,
   "id": "4b7b8542",
   "metadata": {},
   "outputs": [],
   "source": []
  },
  {
   "cell_type": "markdown",
   "id": "5c4c3214",
   "metadata": {},
   "source": [
    "## MODEL BUILDING AND EVALUATION"
   ]
  },
  {
   "cell_type": "markdown",
   "id": "ea2eda1f",
   "metadata": {},
   "source": [
    "### MODEL BUILDING"
   ]
  },
  {
   "cell_type": "markdown",
   "id": "be112a31",
   "metadata": {},
   "source": [
    "### LogisticRegression"
   ]
  },
  {
   "cell_type": "code",
   "execution_count": 33,
   "id": "1b0073ff",
   "metadata": {},
   "outputs": [
    {
     "name": "stdout",
     "output_type": "stream",
     "text": [
      "TESTING DATA:\n",
      "Logistic Regression Accuracy: 0.9\n",
      "Classification Report:\n",
      "              precision    recall  f1-score   support\n",
      "\n",
      "           0       1.00      1.00      1.00         2\n",
      "           1       1.00      1.00      1.00         1\n",
      "           3       1.00      1.00      1.00         1\n",
      "           4       1.00      0.60      0.75         5\n",
      "           5       0.71      1.00      0.83         5\n",
      "           6       1.00      1.00      1.00         6\n",
      "\n",
      "    accuracy                           0.90        20\n",
      "   macro avg       0.95      0.93      0.93        20\n",
      "weighted avg       0.93      0.90      0.90        20\n",
      "\n",
      "\n",
      " Cross Validation Score:\n",
      " [0.9375 0.8125 1.     0.9375 1.    ]\n"
     ]
    }
   ],
   "source": [
    "# Create a Logistic Regression model\n",
    "logistic_model = LogisticRegression(penalty='l2')  # L2 regularization\n",
    "\n",
    "# Fit the model to the training data\n",
    "logistic_model.fit(X_train, y_train)\n",
    "\n",
    "# Predict on the testing data\n",
    "y_pred_logistic = logistic_model.predict(X_test)\n",
    "\n",
    "print(\"TESTING DATA:\")\n",
    "# Evaluate the model\n",
    "accuracy_logistic = accuracy_score(y_test, y_pred_logistic)\n",
    "print(\"Logistic Regression Accuracy:\", accuracy_logistic)\n",
    "\n",
    "# Print classification report\n",
    "print(\"Classification Report:\")\n",
    "print(classification_report(y_test, y_pred_logistic))\n",
    "\n",
    "print(\"\\n Cross Validation Score:\\n\", cross_val_score(logistic_model, X_train, y_train, cv=5, scoring = \"accuracy\"))"
   ]
  },
  {
   "cell_type": "markdown",
   "id": "cc60cd37",
   "metadata": {},
   "source": [
    "#### 6.2 DecisionTree Classifier"
   ]
  },
  {
   "cell_type": "code",
   "execution_count": 35,
   "id": "4b8b74a8",
   "metadata": {},
   "outputs": [
    {
     "name": "stdout",
     "output_type": "stream",
     "text": [
      "TESTING DATA:\n",
      "Decision Tree Accuracy: 0.9\n",
      "Classification Report:\n",
      "              precision    recall  f1-score   support\n",
      "\n",
      "           0       0.00      0.00      0.00         2\n",
      "           1       1.00      1.00      1.00         1\n",
      "           2       0.00      0.00      0.00         0\n",
      "           3       1.00      1.00      1.00         1\n",
      "           4       1.00      1.00      1.00         5\n",
      "           5       1.00      1.00      1.00         5\n",
      "           6       1.00      1.00      1.00         6\n",
      "\n",
      "    accuracy                           0.90        20\n",
      "   macro avg       0.71      0.71      0.71        20\n",
      "weighted avg       0.90      0.90      0.90        20\n",
      "\n",
      "\n",
      " Cross Validation Score:\n",
      " [0.9375     0.875      0.9375     0.875      0.93333333]\n"
     ]
    }
   ],
   "source": [
    "# Create a Decision Tree Classifier model\n",
    "dt_model = DecisionTreeClassifier(max_depth=5,min_samples_split=5, min_samples_leaf=2) # Limit tree depth to avoid overfitting and min splits and leaves for better model\n",
    "\n",
    "# Fit the model to the training data\n",
    "dt_model.fit(X_train, y_train)\n",
    "\n",
    "# Predict on the testing data\n",
    "y_pred_dt = dt_model.predict(X_test)\n",
    "\n",
    "print(\"TESTING DATA:\")\n",
    "# Evaluate the model\n",
    "accuracy_dt = accuracy_score(y_test, y_pred_dt)\n",
    "print(\"Decision Tree Accuracy:\", accuracy_dt)\n",
    "\n",
    "# Print classification report\n",
    "print(\"Classification Report:\")\n",
    "print(classification_report(y_test, y_pred_dt))\n",
    "\n",
    "print(\"\\n Cross Validation Score:\\n\", cross_val_score(dt_model, X_train, y_train, cv=5, scoring = \"accuracy\"))"
   ]
  },
  {
   "cell_type": "markdown",
   "id": "5614fb09",
   "metadata": {},
   "source": [
    "#### 6.3 RandomForest Classifier"
   ]
  },
  {
   "cell_type": "code",
   "execution_count": 142,
   "id": "1203650d",
   "metadata": {},
   "outputs": [
    {
     "name": "stdout",
     "output_type": "stream",
     "text": [
      "TESTING DATA:\n",
      "Random Forest Accuracy: 0.95\n",
      "Classification Report:\n",
      "              precision    recall  f1-score   support\n",
      "\n",
      "           0       1.00      0.50      0.67         2\n",
      "           1       1.00      1.00      1.00         1\n",
      "           2       0.00      0.00      0.00         0\n",
      "           3       1.00      1.00      1.00         1\n",
      "           4       1.00      1.00      1.00         5\n",
      "           5       1.00      1.00      1.00         5\n",
      "           6       1.00      1.00      1.00         6\n",
      "\n",
      "    accuracy                           0.95        20\n",
      "   macro avg       0.86      0.79      0.81        20\n",
      "weighted avg       1.00      0.95      0.97        20\n",
      "\n",
      "\n",
      " Cross Validation Score:\n",
      " [0.9375     0.8125     1.         0.9375     0.93333333]\n"
     ]
    }
   ],
   "source": [
    "# Create a Random Forest Classifier model\n",
    "rf_model = RandomForestClassifier(n_estimators=100, max_depth=5, min_samples_leaf=4, max_features='sqrt') # feature split at each de\n",
    "\n",
    "# Fit the model to the training data\n",
    "rf_model.fit(X_train, y_train)\n",
    "\n",
    "# Predict on the testing data\n",
    "y_pred_rf = rf_model.predict(X_test)\n",
    "\n",
    "print(\"TESTING DATA:\")\n",
    "# Evaluate the model\n",
    "accuracy_rf = accuracy_score(y_test, y_pred_rf)\n",
    "print(\"Random Forest Accuracy:\", accuracy_rf)\n",
    "\n",
    "# Print classification report\n",
    "print(\"Classification Report:\")\n",
    "print(classification_report(y_test, y_pred_rf))\n",
    "\n",
    "\n",
    "print(\"\\n Cross Validation Score:\\n\", cross_val_score(rf_model, X_train, y_train, cv=5, scoring = \"accuracy\"))"
   ]
  },
  {
   "cell_type": "markdown",
   "id": "4c0f4b85",
   "metadata": {},
   "source": [
    "#### 6.4 SupportVectorMachine"
   ]
  },
  {
   "cell_type": "code",
   "execution_count": 143,
   "id": "b945752c",
   "metadata": {
    "scrolled": false
   },
   "outputs": [
    {
     "name": "stdout",
     "output_type": "stream",
     "text": [
      "TESTING DATA:\n",
      "SVM Accuracy: 0.8\n",
      "Classification Report:\n",
      "              precision    recall  f1-score   support\n",
      "\n",
      "           0       1.00      0.50      0.67         2\n",
      "           1       1.00      1.00      1.00         1\n",
      "           2       0.00      0.00      0.00         0\n",
      "           3       0.50      1.00      0.67         1\n",
      "           4       1.00      0.60      0.75         5\n",
      "           5       0.71      1.00      0.83         5\n",
      "           6       1.00      0.83      0.91         6\n",
      "\n",
      "    accuracy                           0.80        20\n",
      "   macro avg       0.74      0.70      0.69        20\n",
      "weighted avg       0.90      0.80      0.82        20\n",
      "\n",
      "\n",
      " Cross Validation Score:\n",
      " [1.         0.8125     1.         0.9375     0.93333333]\n"
     ]
    }
   ],
   "source": [
    "# Create an SVM classifier model\n",
    "svm_model = SVC(kernel='rbf', C=1.0, gamma=\"scale\")  # You can adjust kernel, C, and gamma parameters as needed\n",
    "\n",
    "# Fit the model to the training data\n",
    "svm_model.fit(X_train, y_train)\n",
    "\n",
    "# Predict on the testing data\n",
    "y_pred_svm = svm_model.predict(X_test)\n",
    "\n",
    "print(\"TESTING DATA:\")\n",
    "# Evaluate the model\n",
    "accuracy_svm = accuracy_score(y_test, y_pred_svm)\n",
    "print(\"SVM Accuracy:\", accuracy_svm)\n",
    "\n",
    "# Print classification report\n",
    "print(\"Classification Report:\")\n",
    "print(classification_report(y_test, y_pred_svm))\n",
    "\n",
    "print(\"\\n Cross Validation Score:\\n\", cross_val_score(rf_model, X_train, y_train, cv=5, scoring = \"accuracy\"))"
   ]
  },
  {
   "cell_type": "markdown",
   "id": "7b812730",
   "metadata": {},
   "source": [
    "### 6.5 Ridge Classifier along with L2 Regularization"
   ]
  },
  {
   "cell_type": "code",
   "execution_count": 144,
   "id": "52849e10",
   "metadata": {
    "scrolled": true
   },
   "outputs": [
    {
     "name": "stdout",
     "output_type": "stream",
     "text": [
      "TESTING DATA:\n",
      "Ridge Classifier Accuracy: 0.65\n",
      "Classification Report:\n",
      "              precision    recall  f1-score   support\n",
      "\n",
      "           0       0.00      0.00      0.00         2\n",
      "           1       0.00      0.00      0.00         1\n",
      "           3       1.00      1.00      1.00         1\n",
      "           4       1.00      0.20      0.33         5\n",
      "           5       0.62      1.00      0.77         5\n",
      "           6       0.75      1.00      0.86         6\n",
      "\n",
      "    accuracy                           0.65        20\n",
      "   macro avg       0.56      0.53      0.49        20\n",
      "weighted avg       0.68      0.65      0.58        20\n",
      "\n",
      "\n",
      " Cross Validation Score:\n",
      " [0.9375     0.8125     1.         0.9375     0.93333333]\n"
     ]
    }
   ],
   "source": [
    "# Apply Ridge Classifier with regularization parameter alpha=0.1\n",
    "rc_model = RidgeClassifier(alpha=0.4)\n",
    "\n",
    "# Fit the model to the training data\n",
    "rc_model.fit(X_train, y_train)\n",
    "\n",
    "# Predict on the testing data\n",
    "y_pred_rc = rc_model.predict(X_test)\n",
    "\n",
    "print(\"TESTING DATA:\")\n",
    "# Evaluate the model\n",
    "accuracy_rc = accuracy_score(y_test, y_pred_rc)\n",
    "print(\"Ridge Classifier Accuracy:\", accuracy_rc)\n",
    "\n",
    "# Print classification report\n",
    "print(\"Classification Report:\")\n",
    "print(classification_report(y_test, y_pred_rc))\n",
    "\n",
    "print(\"\\n Cross Validation Score:\\n\", cross_val_score(rf_model, X_train, y_train, cv=5, scoring = \"accuracy\"))"
   ]
  },
  {
   "cell_type": "markdown",
   "id": "379d6d7a",
   "metadata": {},
   "source": [
    "### 6.6 Gradient Boosting"
   ]
  },
  {
   "cell_type": "code",
   "execution_count": 145,
   "id": "bcf365f4",
   "metadata": {
    "scrolled": true
   },
   "outputs": [
    {
     "name": "stdout",
     "output_type": "stream",
     "text": [
      "TESTING DATA:\n",
      "Gradient Boosting Accuracy: 1.0\n",
      "Classification Report:\n",
      "              precision    recall  f1-score   support\n",
      "\n",
      "           0       1.00      1.00      1.00         2\n",
      "           1       1.00      1.00      1.00         1\n",
      "           3       1.00      1.00      1.00         1\n",
      "           4       1.00      1.00      1.00         5\n",
      "           5       1.00      1.00      1.00         5\n",
      "           6       1.00      1.00      1.00         6\n",
      "\n",
      "    accuracy                           1.00        20\n",
      "   macro avg       1.00      1.00      1.00        20\n",
      "weighted avg       1.00      1.00      1.00        20\n",
      "\n",
      "\n",
      " Cross Validation Score:\n",
      " [1.         0.8125     1.         0.875      0.93333333]\n"
     ]
    }
   ],
   "source": [
    "#creating gradient boosting model\n",
    "gb_model = GradientBoostingClassifier(\n",
    "    n_estimators=1000,\n",
    "    learning_rate=0.01,  \n",
    "    max_depth=3,  \n",
    "    min_samples_split=20,  \n",
    "    min_samples_leaf=10,  \n",
    "    subsample=0.8,  \n",
    "    random_state=42\n",
    ")\n",
    "\n",
    "# Use early stopping with validation data to prevent overfitting\n",
    "gb_model.fit(X_train, y_train)\n",
    "\n",
    "\n",
    "# Predict on the testing data\n",
    "y_pred_gb = gb_model.predict(X_test)\n",
    "\n",
    "print(\"TESTING DATA:\")\n",
    "# Evaluate the model\n",
    "accuracy_gb = accuracy_score(y_test, y_pred_gb)\n",
    "print(\"Gradient Boosting Accuracy:\", accuracy_gb)\n",
    "\n",
    "# Print classification report\n",
    "print(\"Classification Report:\")\n",
    "print(classification_report(y_test, y_pred_gb))\n",
    "\n",
    "# Perform cross-validation to check for overfitting\n",
    "cross_val_scores_gb = cross_val_score(gb_model, X_train, y_train, cv=5, scoring='accuracy')\n",
    "\n",
    "print(\"\\n Cross Validation Score:\\n\", cross_val_score(gb_model, X_train, y_train, cv=5, scoring = \"accuracy\"))\n"
   ]
  },
  {
   "cell_type": "markdown",
   "id": "89ad54e3",
   "metadata": {},
   "source": [
    "On evaluation of cross validation scores of each model we can conclude that the models used LogisticRegression, DecisionTree,\n",
    "RandomForest, SupportVectorMachine, RidgeClassifierRegularization, GradientBoosting are well fitted and has their accuracy good.\n",
    "Among all Gradient Boosting has accuracy rate 1.0. Hence we choose Gradient Boosting model for fertilizer recommendations."
   ]
  },
  {
   "cell_type": "markdown",
   "id": "506c7b74",
   "metadata": {},
   "source": [
    "### 6.2 MODEL EVALUATION"
   ]
  },
  {
   "cell_type": "markdown",
   "id": "278c30ef",
   "metadata": {},
   "source": [
    "#### 6.2.1 MODEL PERFORMANCES"
   ]
  },
  {
   "cell_type": "code",
   "execution_count": 146,
   "id": "151af21c",
   "metadata": {
    "scrolled": true
   },
   "outputs": [
    {
     "data": {
      "image/png": "[encoded data removed]",
      "text/plain": [
       "<Figure size 720x432 with 1 Axes>"
      ]
     },
     "metadata": {
      "needs_background": "light"
     },
     "output_type": "display_data"
    }
   ],
   "source": [
    "# Model names and their accuracies\n",
    "model_names = ['Logistic Regression', 'Decision Tree', 'Random Forest', 'Support Vector Machine', 'Ridge Classifier regularization','Gradient Boosting']\n",
    "accuracies = [accuracy_logistic, accuracy_dt, accuracy_rf, accuracy_svm,accuracy_rc,accuracy_gb]\n",
    "\n",
    "# Create bar plot\n",
    "plt.figure(figsize=(10, 6))\n",
    "plt.bar(model_names, accuracies, color='skyblue')\n",
    "\n",
    "# Add title and labels\n",
    "plt.title('Accuracy of Different Models')\n",
    "plt.xticks(rotation=45)\n",
    "plt.xlabel('Models')\n",
    "plt.ylabel('Accuracy')\n",
    "plt.show()"
   ]
  },
  {
   "cell_type": "markdown",
   "id": "2fbb0441",
   "metadata": {},
   "source": [
    "Among all Gradient Boosting has accuracy rate 1.0. Hence we choose Gradient Boosting model for fertilizer recommendations."
   ]
  },
  {
   "cell_type": "code",
   "execution_count": 147,
   "id": "fd1e250f",
   "metadata": {},
   "outputs": [],
   "source": [
    "# #saving the decision tree classifier model\n",
    "with open('../app/models/fertilizer_recommendation.pkl', 'wb') as file:\n",
    "    pickle.dump(gb_model , file)"
   ]
  },
  {
   "cell_type": "markdown",
   "id": "5b9d65dc",
   "metadata": {},
   "source": [
    "#### 6.2.2 PREDICTION FOR A NEW VALUE"
   ]
  },
  {
   "cell_type": "code",
   "execution_count": 148,
   "id": "7e06767a",
   "metadata": {},
   "outputs": [],
   "source": [
    "#FUNCTION to convert categorical values of input_data to numerical values\n",
    "def catergorical_to_num(input_data):\n",
    "    numerical_values = input_data\n",
    "\n",
    "    # Load the label encoders for Soil_Type and Crop_Type\n",
    "    soil_type_encoder = LabelEncoder()\n",
    "    soil_type_encoder.classes_ = np.array(['Black', 'Clayey', 'Loamy', 'Red', 'Sandy'])\n",
    "\n",
    "    crop_type_encoder = LabelEncoder()\n",
    "    crop_type_encoder.classes_ = np.array(['Barley', 'Cotton', 'Ground Nuts', 'Maize', 'Millets', 'Oil seeds', 'Paddy', 'Pulses', 'Sugarcane', 'Tobacco', 'Wheat'])\n",
    "\n",
    "    # Encode the categorical values\n",
    "    soil_type_encoded = soil_type_encoder.transform([input_data[3]])[0]\n",
    "    crop_type_encoded = crop_type_encoder.transform([input_data[4]])[0]\n",
    "\n",
    "    # Combine numerical and encoded values\n",
    "    encoded_data = input_data[:3] + [soil_type_encoded, crop_type_encoded] + list(map(int, input_data[-3:]))\n",
    "    return encoded_data"
   ]
  },
  {
   "cell_type": "code",
   "execution_count": 150,
   "id": "14b92eb8",
   "metadata": {
    "scrolled": true
   },
   "outputs": [
    {
     "name": "stdout",
     "output_type": "stream",
     "text": [
      "Predicted Crop: [6]\n"
     ]
    }
   ],
   "source": [
    "# Loading Standard_Scaler\n",
    "with open('../app/models/standard_scalerFR.pkl', 'rb') as file:\n",
    "    scaler = pickle.load(file)\n",
    "\n",
    "\n",
    "# Loading the Random Forest Model\n",
    "with open('../app/models/fertilizer_recommendation.pkl', 'rb') as file:\n",
    "    model_loaded = pickle.load(file)\n",
    "input_data=[26,52,38,'Sandy','Maize',37,0,0]\n",
    "new_data = [catergorical_to_num(input_data)]\n",
    "\n",
    "# Applying Standar_Scaling to new data\n",
    "scaled_data = scaler.transform(new_data)  # Use transform, not fit_transform\n",
    "\n",
    "# Predicting for new value with the loaded model\n",
    "prediction = model_loaded.predict(scaled_data)\n",
    "\n",
    "# Print the prediction\n",
    "print(\"Predicted Crop:\", prediction)\n"
   ]
  },
  {
   "cell_type": "code",
   "execution_count": 151,
   "id": "56142934",
   "metadata": {
    "scrolled": true
   },
   "outputs": [],
   "source": [
    "# Reversing dictionary of label encodings\n",
    "\n",
    "reverse_fertilizer = {0: '10-26-26', 1: '14-35-14', 2: '17-17-17', 3: '20-20', 4: '28-28', 5: 'DAP', 6: 'Urea'}\n",
    "predicted_fertilizer = [reverse_fertilizer[prediction[0]]]"
   ]
  },
  {
   "cell_type": "code",
   "execution_count": 152,
   "id": "54fddd26",
   "metadata": {},
   "outputs": [
    {
     "name": "stdout",
     "output_type": "stream",
     "text": [
      "Predicted Fertilizer: Urea\n"
     ]
    }
   ],
   "source": [
    "print(\"Predicted Fertilizer: \"+predicted_fertilizer[0])"
   ]
  },
  {
   "cell_type": "markdown",
   "id": "3f64e935",
   "metadata": {},
   "source": [
    "## 7. Conclusion "
   ]
  },
  {
   "cell_type": "markdown",
   "id": "fc2936ac",
   "metadata": {},
   "source": [
    "In this notebook, we explored the task of fertilizer recommendation using machine learning. We started by analyzing the dataset, preprocessing the data, and then training various models to predict the recommended fertilizer based on given features.\n",
    "\n",
    "#### Best Model\n",
    "\n",
    "After evaluating several models, the Gradient Boosting demonstrated superior performance interms of accuracy.\n",
    "\n",
    "#### Recommendations\n",
    "\n",
    "Our recommendation for deploying a fertilizer recommendation system is to utilize the Gradient Boosting model. This model exhibited robust performance during our analysis and can provide reliable predictions for fertilizer recommendations.\n"
   ]
  },
  {
   "cell_type": "code",
   "execution_count": null,
   "id": "8889c9b4",
   "metadata": {},
   "outputs": [],
   "source": []
  }
 ],
 "metadata": {
  "kernelspec": {
   "display_name": "Python 3 (ipykernel)",
   "language": "python",
   "name": "python3"
  },
  "language_info": {
   "codemirror_mode": {
    "name": "ipython",
    "version": 3
   },
   "file_extension": ".py",
   "mimetype": "text/x-python",
   "name": "python",
   "nbconvert_exporter": "python",
   "pygments_lexer": "ipython3",
   "version": "3.11.0"
  }
 },
 "nbformat": 4,
 "nbformat_minor": 5
}
